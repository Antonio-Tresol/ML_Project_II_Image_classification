{
 "cells": [
  {
   "cell_type": "code",
   "execution_count": null,
   "metadata": {},
   "outputs": [],
   "source": []
  },
  {
   "cell_type": "code",
   "execution_count": null,
   "metadata": {},
   "outputs": [],
   "source": []
  },
  {
   "cell_type": "code",
   "execution_count": null,
   "metadata": {},
   "outputs": [],
   "source": []
  },
  {
   "cell_type": "markdown",
   "metadata": {},
   "source": [
    "# Convnext With Bilateral Filter"
   ]
  },
  {
   "cell_type": "markdown",
   "metadata": {},
   "source": [
    "## Confusion Matrix"
   ]
  },
  {
   "cell_type": "code",
   "execution_count": null,
   "metadata": {},
   "outputs": [],
   "source": [
    "import pandas as pd\n",
    "import matplotlib.pyplot as plt\n",
    "import seaborn as sns\n",
    "\n",
    "examples_count_per_class = [3616, 6012, 10192, 1345]\n",
    "labels = [\"Covid-19\", \"Lung Opacity\", \"Normal\", \"Viral Pneumonia\"]"
   ]
  },
  {
   "cell_type": "code",
   "execution_count": null,
   "metadata": {},
   "outputs": [],
   "source": [
    "def plot_per_class_metric(data: pd.DataFrame, metric_name: str):\n",
    "    sns.barplot(data=data,x=data.index.to_list(), y=metric_name, hue=data.index.to_list())\n",
    "    \n",
    "def plot_confusion_matrix(data: pd.DataFrame, plot_title: str):\n",
    "    # Plot the confusion matrix\n",
    "    plt.figure(figsize=(10, 7))\n",
    "    sns.heatmap(data, annot=True, fmt='g')\n",
    "    plt.xlabel('Predicted')\n",
    "    plt.ylabel('True')\n",
    "    plt.title(plot_title)"
   ]
  },
  {
   "cell_type": "markdown",
   "metadata": {},
   "source": [
    "# Convnext With no Filter"
   ]
  },
  {
   "cell_type": "markdown",
   "metadata": {},
   "source": [
    "## Confusion Matrix"
   ]
  },
  {
   "cell_type": "code",
   "execution_count": null,
   "metadata": {},
   "outputs": [],
   "source": [
    "# Load the data\n",
    "convnext_confusion_matrix_no_filter = pd.read_csv(\"convnext_confusion_matrix.csv\", index_col=0)\n",
    "convnext_per_class_metrics_no_filter = pd.read_csv(\"convnext_per_class_metrics.csv\", index_col=0)\n",
    "\n",
    "# Plplot_confusion_matrix(data=convnext_confusion_matrix_no_filter)ot the confusion matrix\n",
    "plt.figure(figsize=(10, 7))\n",
    "sns.heatmap(convnext_confusion_matrix_no_filter, annot=True, fmt='g')\n",
    "plt.xlabel('Predicted')\n",
    "plt.ylabel('True')\n",
    "plt.title('Confusion Matrix ConvNext')"
   ]
  },
  {
   "cell_type": "markdown",
   "metadata": {},
   "source": [
    "## Acr class metricscuracy per classPe"
   ]
  },
  {
   "cell_type": "code",
   "execution_count": null,
   "metadata": {},
   "outputs": [],
   "source": [
    "convnext_per_class_metrics_no_filter"
   ]
  },
  {
   "cell_type": "code",
   "execution_count": null,
   "metadata": {},
   "outputs": [],
   "source": [
    "plot_per_class_metric(data=convnext_per_class_metrics_no_filter, metric_name='Accuracy')\n",
    "plot_per_class_metric(data=convnext_per_class_metrics_no_filter, metric_name='Precision')\n",
    "plot_per_class_metric(data=convnext_per_class_metrics_no_filter, metric_name='Recall')"
   ]
  }
 ],
 "metadata": {
  "kernelspec": {
   "display_name": "Python 3",
   "language": "python",
   "name": "python3"
  },
  "language_info": {
   "codemirror_mode": {
    "name": "ipython",
    "version": 3
   },
   "file_extension": ".py",
   "mimetype": "text/x-python",
   "name": "python",
   "nbconvert_exporter": "python",
   "pygments_lexer": "ipython3",
   "version": "3.12.3"
  }
 },
 "nbformat": 4,
 "nbformat_minor": 2
}
